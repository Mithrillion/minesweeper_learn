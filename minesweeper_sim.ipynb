{
 "cells": [
  {
   "cell_type": "code",
   "execution_count": 1,
   "metadata": {
    "collapsed": true
   },
   "outputs": [],
   "source": [
    "import numpy as np\n",
    "import matplotlib.pyplot as plt"
   ]
  },
  {
   "cell_type": "code",
   "execution_count": 2,
   "metadata": {
    "collapsed": true
   },
   "outputs": [],
   "source": [
    "width = 9\n",
    "height = 9\n",
    "n_mines = 10"
   ]
  },
  {
   "cell_type": "code",
   "execution_count": 7,
   "metadata": {
    "collapsed": true
   },
   "outputs": [],
   "source": [
    "stage = np.zeros((width, height, 3), dtype='int8')"
   ]
  },
  {
   "cell_type": "code",
   "execution_count": 193,
   "metadata": {
    "collapsed": false
   },
   "outputs": [],
   "source": [
    "def get_init_stage(width=9, height=9, n_mines=10):\n",
    "    # set stage\n",
    "    stage = np.zeros((width, height, 3), dtype='int8')\n",
    "    # assign mines\n",
    "    selected_long = np.zeros((width * height), dtype='bool')\n",
    "    selected_long[np.random.choice(range(0, width * height), n_mines, replace=False)] = True\n",
    "    selected = selected_long.reshape((width, height))\n",
    "    stage[selected, 1] = 1\n",
    "    # set neighbour mine counts\n",
    "    mines_padded = np.zeros((width + 2, height + 2), dtype='int8')\n",
    "    mines_padded[1:-1, 1:-1] = stage[:, :, 1]\n",
    "    for x in range(width):\n",
    "        for y in range(height):\n",
    "            if stage[x, y, 1] == 0:\n",
    "                stage[x, y, 2] = np.sum(mines_padded[x: x + 3, y: y + 3])\n",
    "    return stage          "
   ]
  },
  {
   "cell_type": "code",
   "execution_count": 194,
   "metadata": {
    "collapsed": false
   },
   "outputs": [],
   "source": [
    "def print_stage(stage):\n",
    "    return stage[:, :, 2] - stage[:, :, 1]"
   ]
  },
  {
   "cell_type": "code",
   "execution_count": 195,
   "metadata": {
    "collapsed": false
   },
   "outputs": [
    {
     "data": {
      "text/plain": [
       "array([[ 0,  0,  0,  0,  0,  1, -1,  1,  0],\n",
       "       [ 1,  1,  1,  0,  0,  1,  2,  2,  1],\n",
       "       [ 1, -1,  1,  0,  0,  0,  1, -1,  1],\n",
       "       [ 1,  2,  3,  2,  1,  0,  1,  1,  1],\n",
       "       [ 0,  1, -1, -1,  1,  0,  0,  0,  0],\n",
       "       [ 0,  1,  2,  2,  1,  0,  1,  1,  1],\n",
       "       [ 0,  0,  1,  1,  1,  0,  2, -1,  2],\n",
       "       [ 0,  1,  3, -1,  2,  0,  2, -1,  2],\n",
       "       [ 0,  1, -1, -1,  2,  0,  1,  1,  1]], dtype=int8)"
      ]
     },
     "execution_count": 195,
     "metadata": {},
     "output_type": "execute_result"
    }
   ],
   "source": [
    "print_stage(get_init_stage())"
   ]
  },
  {
   "cell_type": "code",
   "execution_count": 196,
   "metadata": {
    "collapsed": true
   },
   "outputs": [],
   "source": [
    "def show_visible(stage):\n",
    "    return stage[:, :, 0] * print_stage(stage)"
   ]
  },
  {
   "cell_type": "code",
   "execution_count": 197,
   "metadata": {
    "collapsed": false
   },
   "outputs": [
    {
     "data": {
      "text/plain": [
       "array([[0, 0, 0, 0, 0, 0, 0, 0, 0],\n",
       "       [0, 0, 0, 0, 0, 0, 0, 0, 0],\n",
       "       [0, 0, 0, 0, 0, 0, 0, 0, 0],\n",
       "       [0, 0, 0, 0, 0, 0, 0, 0, 0],\n",
       "       [0, 0, 0, 0, 0, 0, 0, 0, 0],\n",
       "       [0, 0, 0, 0, 0, 0, 0, 0, 0],\n",
       "       [0, 0, 0, 0, 0, 0, 0, 0, 0],\n",
       "       [0, 0, 0, 0, 0, 0, 0, 0, 0],\n",
       "       [0, 0, 0, 0, 0, 0, 0, 0, 0]], dtype=int8)"
      ]
     },
     "execution_count": 197,
     "metadata": {},
     "output_type": "execute_result"
    }
   ],
   "source": [
    "show_visible(get_init_stage())"
   ]
  },
  {
   "cell_type": "code",
   "execution_count": 198,
   "metadata": {
    "collapsed": true
   },
   "outputs": [],
   "source": [
    "def step_on(stage, coord):\n",
    "    stage[coord[0], coord[1], 0] = 1\n",
    "    # if not mine, expand all (directly) neighbouring non-mine tiles\n",
    "    return stage"
   ]
  },
  {
   "cell_type": "code",
   "execution_count": 211,
   "metadata": {
    "collapsed": false
   },
   "outputs": [],
   "source": [
    "temp_stage = get_init_stage()"
   ]
  },
  {
   "cell_type": "code",
   "execution_count": 212,
   "metadata": {
    "collapsed": false
   },
   "outputs": [
    {
     "data": {
      "text/plain": [
       "array([[ 0,  1,  1,  1,  0,  0,  0,  0,  0],\n",
       "       [ 0,  1, -1,  1,  0,  0,  0,  0,  0],\n",
       "       [ 1,  2,  1,  1,  0,  1,  2,  2,  1],\n",
       "       [-1,  1,  0,  0,  0,  1, -1, -1,  2],\n",
       "       [ 1,  1,  1,  2,  3,  4,  5, -1,  2],\n",
       "       [ 0,  0,  1, -1, -1, -1, -1,  2,  1],\n",
       "       [ 0,  0,  1,  2,  3,  3,  2,  1,  0],\n",
       "       [ 0,  0,  0,  0,  0,  1,  1,  1,  0],\n",
       "       [ 0,  0,  0,  0,  0,  1, -1,  1,  0]], dtype=int8)"
      ]
     },
     "execution_count": 212,
     "metadata": {},
     "output_type": "execute_result"
    }
   ],
   "source": [
    "temp_printed = print_stage(temp_stage)\n",
    "temp_printed"
   ]
  },
  {
   "cell_type": "code",
   "execution_count": 213,
   "metadata": {
    "collapsed": false
   },
   "outputs": [
    {
     "data": {
      "text/plain": [
       "-1"
      ]
     },
     "execution_count": 213,
     "metadata": {},
     "output_type": "execute_result"
    }
   ],
   "source": [
    "temp_printed[5, 3]"
   ]
  },
  {
   "cell_type": "code",
   "execution_count": 214,
   "metadata": {
    "collapsed": false
   },
   "outputs": [
    {
     "data": {
      "text/plain": [
       "array([[0, 0, 0, 0, 0, 0, 0, 0, 0],\n",
       "       [0, 0, 0, 0, 0, 0, 0, 0, 0],\n",
       "       [0, 0, 0, 0, 0, 0, 0, 0, 0],\n",
       "       [0, 0, 0, 0, 0, 0, 0, 0, 0],\n",
       "       [0, 0, 0, 0, 0, 0, 0, 0, 0],\n",
       "       [0, 0, 0, 0, 0, 0, 0, 0, 0],\n",
       "       [0, 0, 0, 0, 0, 0, 0, 0, 0],\n",
       "       [0, 0, 0, 0, 0, 0, 0, 0, 0],\n",
       "       [0, 0, 0, 0, 0, 0, 0, 0, 0]], dtype=int8)"
      ]
     },
     "execution_count": 214,
     "metadata": {},
     "output_type": "execute_result"
    }
   ],
   "source": [
    "show_visible(temp_stage)"
   ]
  },
  {
   "cell_type": "code",
   "execution_count": 218,
   "metadata": {
    "collapsed": false
   },
   "outputs": [
    {
     "data": {
      "text/plain": [
       "array([[ 0,  0,  0,  0,  0,  0,  0,  0,  0],\n",
       "       [ 0,  0,  0,  0,  0,  0,  0,  0,  0],\n",
       "       [ 0,  0,  0,  0,  0,  0,  0,  0,  0],\n",
       "       [ 0,  0,  0,  0,  0,  0,  0,  0,  0],\n",
       "       [ 0,  0,  0,  0,  0,  0,  0,  0,  0],\n",
       "       [ 0,  0,  0, -1,  0,  0,  0,  0,  0],\n",
       "       [ 0,  0,  0,  0,  0,  0,  0,  0,  0],\n",
       "       [ 0,  0,  0,  0,  0,  0,  0,  0,  0],\n",
       "       [ 0,  0,  0,  0,  0,  0,  0,  0,  0]], dtype=int8)"
      ]
     },
     "execution_count": 218,
     "metadata": {},
     "output_type": "execute_result"
    }
   ],
   "source": [
    "temp_after = step_on(temp_stage, (5, 3))\n",
    "show_visible(temp_after)"
   ]
  },
  {
   "cell_type": "code",
   "execution_count": 219,
   "metadata": {
    "collapsed": true
   },
   "outputs": [],
   "source": [
    "def is_dead(stage):\n",
    "    return np.sum(show_visible(stage) < 0)"
   ]
  },
  {
   "cell_type": "code",
   "execution_count": 220,
   "metadata": {
    "collapsed": false
   },
   "outputs": [
    {
     "data": {
      "text/plain": [
       "1"
      ]
     },
     "execution_count": 220,
     "metadata": {},
     "output_type": "execute_result"
    }
   ],
   "source": [
    "is_dead(temp_after)"
   ]
  },
  {
   "cell_type": "code",
   "execution_count": null,
   "metadata": {
    "collapsed": true
   },
   "outputs": [],
   "source": []
  }
 ],
 "metadata": {
  "kernelspec": {
   "display_name": "Python [Root]",
   "language": "python",
   "name": "Python [Root]"
  },
  "language_info": {
   "codemirror_mode": {
    "name": "ipython",
    "version": 3
   },
   "file_extension": ".py",
   "mimetype": "text/x-python",
   "name": "python",
   "nbconvert_exporter": "python",
   "pygments_lexer": "ipython3",
   "version": "3.5.1"
  }
 },
 "nbformat": 4,
 "nbformat_minor": 0
}
