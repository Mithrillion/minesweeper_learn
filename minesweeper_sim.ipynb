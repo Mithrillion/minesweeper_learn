{
 "cells": [
  {
   "cell_type": "code",
   "execution_count": 33,
   "metadata": {
    "collapsed": true
   },
   "outputs": [],
   "source": [
    "import numpy as np\n",
    "import matplotlib.pyplot as plt\n",
    "import pandas as pd"
   ]
  },
  {
   "cell_type": "code",
   "execution_count": 2,
   "metadata": {
    "collapsed": true
   },
   "outputs": [],
   "source": [
    "width = 9\n",
    "height = 9\n",
    "n_mines = 10"
   ]
  },
  {
   "cell_type": "code",
   "execution_count": 3,
   "metadata": {
    "collapsed": true
   },
   "outputs": [],
   "source": [
    "stage = np.zeros((width, height, 3), dtype='int8')"
   ]
  },
  {
   "cell_type": "code",
   "execution_count": 4,
   "metadata": {
    "collapsed": false
   },
   "outputs": [],
   "source": [
    "def get_init_stage(width=9, height=9, n_mines=10):\n",
    "    # set stage\n",
    "    stage = np.zeros((width, height, 3), dtype='int8')\n",
    "    # assign mines\n",
    "    selected_long = np.zeros((width * height), dtype='bool')\n",
    "    selected_long[np.random.choice(range(0, width * height), n_mines, replace=False)] = True\n",
    "    selected = selected_long.reshape((width, height))\n",
    "    stage[selected, 1] = 1\n",
    "    # set neighbour mine counts\n",
    "    mines_padded = np.zeros((width + 2, height + 2), dtype='int8')\n",
    "    mines_padded[1:-1, 1:-1] = stage[:, :, 1]\n",
    "    for x in range(width):\n",
    "        for y in range(height):\n",
    "            if stage[x, y, 1] == 0:\n",
    "                stage[x, y, 2] = np.sum(mines_padded[x: x + 3, y: y + 3])\n",
    "    return stage          "
   ]
  },
  {
   "cell_type": "code",
   "execution_count": 5,
   "metadata": {
    "collapsed": false
   },
   "outputs": [],
   "source": [
    "def print_stage(stage):\n",
    "    return stage[:, :, 2] - stage[:, :, 1]"
   ]
  },
  {
   "cell_type": "code",
   "execution_count": 6,
   "metadata": {
    "collapsed": false
   },
   "outputs": [
    {
     "data": {
      "text/plain": [
       "array([[ 1,  1,  0,  0,  0,  1,  2,  3, -1],\n",
       "       [-1,  1,  0,  0,  0,  1, -1, -1,  2],\n",
       "       [ 1,  1,  0,  0,  0,  1,  2,  2,  1],\n",
       "       [ 0,  0,  0,  0,  0,  1,  1,  2,  1],\n",
       "       [ 0,  0,  0,  0,  1,  2, -1,  2, -1],\n",
       "       [ 0,  0,  0,  0,  1, -1,  2,  2,  1],\n",
       "       [ 0,  0,  0,  0,  1,  2,  2,  1,  0],\n",
       "       [ 0,  1,  1,  1,  0,  1, -1,  2,  1],\n",
       "       [ 0,  1, -1,  1,  0,  1,  1,  2, -1]], dtype=int8)"
      ]
     },
     "execution_count": 6,
     "metadata": {},
     "output_type": "execute_result"
    }
   ],
   "source": [
    "print_stage(get_init_stage())"
   ]
  },
  {
   "cell_type": "code",
   "execution_count": 7,
   "metadata": {
    "collapsed": true
   },
   "outputs": [],
   "source": [
    "def show_visible(stage):\n",
    "    return stage[:, :, 0] * print_stage(stage)"
   ]
  },
  {
   "cell_type": "code",
   "execution_count": 8,
   "metadata": {
    "collapsed": false
   },
   "outputs": [
    {
     "data": {
      "text/plain": [
       "array([[0, 0, 0, 0, 0, 0, 0, 0, 0],\n",
       "       [0, 0, 0, 0, 0, 0, 0, 0, 0],\n",
       "       [0, 0, 0, 0, 0, 0, 0, 0, 0],\n",
       "       [0, 0, 0, 0, 0, 0, 0, 0, 0],\n",
       "       [0, 0, 0, 0, 0, 0, 0, 0, 0],\n",
       "       [0, 0, 0, 0, 0, 0, 0, 0, 0],\n",
       "       [0, 0, 0, 0, 0, 0, 0, 0, 0],\n",
       "       [0, 0, 0, 0, 0, 0, 0, 0, 0],\n",
       "       [0, 0, 0, 0, 0, 0, 0, 0, 0]], dtype=int8)"
      ]
     },
     "execution_count": 8,
     "metadata": {},
     "output_type": "execute_result"
    }
   ],
   "source": [
    "show_visible(get_init_stage())"
   ]
  },
  {
   "cell_type": "code",
   "execution_count": 9,
   "metadata": {
    "collapsed": true
   },
   "outputs": [],
   "source": [
    "def expand(stage, coord):\n",
    "    mines_padded = np.zeros((width + 2, height + 2), dtype='int8') - 1\n",
    "    mines_padded[1:-1, 1:-1] = stage[:, :, 1]\n",
    "    n = []\n",
    "    n.append((coord[0], coord[1] + 1))\n",
    "    n.append((coord[0] + 1, coord[1]))\n",
    "    n.append((coord[0] + 2, coord[1] + 1))\n",
    "    n.append((coord[0] + 1, coord[1] + 2))\n",
    "    return [(x[0] - 1, x[1] - 1) for x in n if mines_padded[x[0], x[1]] == 0\n",
    "           and stage[x[0] - 1, x[1] - 1, 0] == 0]"
   ]
  },
  {
   "cell_type": "code",
   "execution_count": 10,
   "metadata": {
    "collapsed": true
   },
   "outputs": [],
   "source": [
    "def step_on(stage, coord):\n",
    "    new_stage = stage.copy()\n",
    "    new_stage[coord[0], coord[1], 0] = 1\n",
    "    # if not mine, expand all (directly) neighbouring non-mine tiles\n",
    "    if is_dead(new_stage):\n",
    "        return False, new_stage\n",
    "    elif stage[coord[0], coord[1], 2] == 0:\n",
    "        eligible_neighbours = expand(new_stage, coord)\n",
    "        for c in eligible_neighbours:\n",
    "            new_stage[c[0], c[1], 0] = 1\n",
    "            if new_stage[c[0], c[1], 2] == 0:\n",
    "                eligible_neighbours += expand(new_stage, c)\n",
    "        return True, new_stage\n",
    "    else:\n",
    "        return True, new_stage"
   ]
  },
  {
   "cell_type": "code",
   "execution_count": 11,
   "metadata": {
    "collapsed": true
   },
   "outputs": [],
   "source": [
    "def is_dead(stage):\n",
    "    return np.sum(show_visible(stage) < 0)"
   ]
  },
  {
   "cell_type": "code",
   "execution_count": 177,
   "metadata": {
    "collapsed": true
   },
   "outputs": [],
   "source": [
    "def pretty(stage):\n",
    "    pres = pd.DataFrame(print_stage(stage))\n",
    "    pres = pres.replace(0, '.')\n",
    "    for c in np.argwhere(stage[:, :, 0] == 0):\n",
    "        pres.loc[c[0], c[1]] = '*'\n",
    "    return pres"
   ]
  },
  {
   "cell_type": "code",
   "execution_count": 193,
   "metadata": {
    "collapsed": false
   },
   "outputs": [],
   "source": [
    "temp_stage = get_init_stage()"
   ]
  },
  {
   "cell_type": "code",
   "execution_count": 194,
   "metadata": {
    "collapsed": false
   },
   "outputs": [
    {
     "data": {
      "text/plain": [
       "array([[ 0,  1, -1,  1,  0,  0,  1, -1,  1],\n",
       "       [ 0,  1,  1,  1,  0,  0,  1,  1,  1],\n",
       "       [ 0,  0,  0,  0,  0,  0,  0,  0,  0],\n",
       "       [ 0,  0,  0,  0,  0,  0,  0,  0,  0],\n",
       "       [ 0,  0,  0,  0,  0,  0,  1,  1,  1],\n",
       "       [ 0,  0,  1,  2,  2,  1,  2, -1,  2],\n",
       "       [ 0,  1,  2, -1, -1,  2,  3, -1,  3],\n",
       "       [ 0,  1, -1,  4, -1,  2,  3, -1,  3],\n",
       "       [ 0,  1,  1,  2,  1,  1,  2, -1,  2]], dtype=int8)"
      ]
     },
     "execution_count": 194,
     "metadata": {},
     "output_type": "execute_result"
    }
   ],
   "source": [
    "temp_printed = print_stage(temp_stage)\n",
    "temp_printed"
   ]
  },
  {
   "cell_type": "code",
   "execution_count": 195,
   "metadata": {
    "collapsed": false
   },
   "outputs": [
    {
     "data": {
      "text/plain": [
       "0"
      ]
     },
     "execution_count": 195,
     "metadata": {},
     "output_type": "execute_result"
    }
   ],
   "source": [
    "temp_printed[2, 2]"
   ]
  },
  {
   "cell_type": "code",
   "execution_count": 196,
   "metadata": {
    "collapsed": false
   },
   "outputs": [
    {
     "name": "stdout",
     "output_type": "stream",
     "text": [
      "   0  1  2  3  4  5  6  7  8\n",
      "0  *  *  *  *  *  *  *  *  *\n",
      "1  *  *  *  *  *  *  *  *  *\n",
      "2  *  *  *  *  *  *  *  *  *\n",
      "3  *  *  *  *  *  *  *  *  *\n",
      "4  *  *  *  *  *  *  *  *  *\n",
      "5  *  *  *  *  *  *  *  *  *\n",
      "6  *  *  *  *  *  *  *  *  *\n",
      "7  *  *  *  *  *  *  *  *  *\n",
      "8  *  *  *  *  *  *  *  *  *\n"
     ]
    }
   ],
   "source": [
    "print(pretty(temp_stage))"
   ]
  },
  {
   "cell_type": "code",
   "execution_count": 197,
   "metadata": {
    "collapsed": false
   },
   "outputs": [
    {
     "name": "stdout",
     "output_type": "stream",
     "text": [
      "True\n",
      "   0  1  2  3  4  5  6  7  8\n",
      "0  .  1  *  1  .  .  1  *  *\n",
      "1  .  1  1  1  .  .  1  1  1\n",
      "2  .  .  .  .  .  .  .  .  .\n",
      "3  .  .  .  .  .  .  .  .  .\n",
      "4  .  .  .  .  .  .  1  1  1\n",
      "5  .  .  1  2  2  1  *  *  *\n",
      "6  .  1  *  *  *  *  *  *  *\n",
      "7  .  1  *  *  *  *  *  *  *\n",
      "8  .  1  *  *  *  *  *  *  *\n"
     ]
    }
   ],
   "source": [
    "alive, temp_after = step_on(temp_stage, (2, 2))\n",
    "print(alive)\n",
    "print(pretty(temp_after))\n",
    "# print(temp_after[:, :, 0])\n",
    "# show_visible(temp_after)"
   ]
  },
  {
   "cell_type": "code",
   "execution_count": 198,
   "metadata": {
    "collapsed": true
   },
   "outputs": [],
   "source": [
    "def is_won(stage):\n",
    "    return np.sum(stage[:, :, 0]) == width * height - n_mines"
   ]
  },
  {
   "cell_type": "code",
   "execution_count": null,
   "metadata": {
    "collapsed": true
   },
   "outputs": [],
   "source": []
  }
 ],
 "metadata": {
  "anaconda-cloud": {},
  "kernelspec": {
   "display_name": "Python [Root]",
   "language": "python",
   "name": "Python [Root]"
  },
  "language_info": {
   "codemirror_mode": {
    "name": "ipython",
    "version": 3
   },
   "file_extension": ".py",
   "mimetype": "text/x-python",
   "name": "python",
   "nbconvert_exporter": "python",
   "pygments_lexer": "ipython3",
   "version": "3.5.2"
  }
 },
 "nbformat": 4,
 "nbformat_minor": 0
}
