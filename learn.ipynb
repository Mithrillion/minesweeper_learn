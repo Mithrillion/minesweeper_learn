{
 "cells": [
  {
   "cell_type": "code",
   "execution_count": 2,
   "metadata": {
    "collapsed": false
   },
   "outputs": [],
   "source": [
    "import keras\n",
    "import numpy as np\n",
    "import matplotlib.pyplot as plt\n",
    "import pandas as pd"
   ]
  },
  {
   "cell_type": "code",
   "execution_count": 3,
   "metadata": {
    "collapsed": true
   },
   "outputs": [],
   "source": [
    "width = 9\n",
    "height = 9\n",
    "n_mines = 10\n",
    "\n",
    "def get_init_stage(width=9, height=9, n_mines=10):\n",
    "    # set stage\n",
    "    stage = np.zeros((width, height, 3), dtype='int8')\n",
    "    # assign mines\n",
    "    selected_long = np.zeros((width * height), dtype='bool')\n",
    "    selected_long[np.random.choice(range(0, width * height), n_mines, replace=False)] = True\n",
    "    selected = selected_long.reshape((width, height))\n",
    "    stage[selected, 1] = 1\n",
    "    # set neighbour mine counts\n",
    "    mines_padded = np.zeros((width + 2, height + 2), dtype='int8')\n",
    "    mines_padded[1:-1, 1:-1] = stage[:, :, 1]\n",
    "    for x in range(width):\n",
    "        for y in range(height):\n",
    "            if stage[x, y, 1] == 0:\n",
    "                stage[x, y, 2] = np.sum(mines_padded[x: x + 3, y: y + 3])\n",
    "    return stage          \n",
    "\n",
    "def print_stage(stage):\n",
    "    return stage[:, :, 2] - stage[:, :, 1]\n",
    "\n",
    "def show_visible(stage):\n",
    "    return stage[:, :, 0] * print_stage(stage)\n",
    "\n",
    "def expand(stage, coord):\n",
    "    mines_padded = np.zeros((width + 2, height + 2), dtype='int8') - 1\n",
    "    mines_padded[1:-1, 1:-1] = stage[:, :, 1]\n",
    "    n = []\n",
    "    n.append((coord[0], coord[1] + 1))\n",
    "    n.append((coord[0] + 1, coord[1]))\n",
    "    n.append((coord[0] + 2, coord[1] + 1))\n",
    "    n.append((coord[0] + 1, coord[1] + 2))\n",
    "    return [(x[0] - 1, x[1] - 1) for x in n if mines_padded[x[0], x[1]] == 0\n",
    "           and stage[x[0] - 1, x[1] - 1, 0] == 0]\n",
    "\n",
    "def step_on(stage, coord):\n",
    "    new_stage = stage.copy()\n",
    "    new_stage[coord[0], coord[1], 0] = 1\n",
    "    # if not mine, expand all (directly) neighbouring non-mine tiles\n",
    "    if is_dead(new_stage):\n",
    "        return False, new_stage\n",
    "    elif stage[coord[0], coord[1], 2] == 0:\n",
    "        eligible_neighbours = expand(new_stage, coord)\n",
    "        for c in eligible_neighbours:\n",
    "            new_stage[c[0], c[1], 0] = 1\n",
    "            if new_stage[c[0], c[1], 2] == 0:\n",
    "                eligible_neighbours += expand(new_stage, c)\n",
    "        return True, new_stage\n",
    "    else:\n",
    "        return True, new_stage\n",
    "    \n",
    "def is_dead(stage):\n",
    "    return np.sum(show_visible(stage) < 0)\n",
    "\n",
    "def pretty(stage):\n",
    "    pres = pd.DataFrame(print_stage(stage))\n",
    "    pres = pres.replace(0, '.')\n",
    "    for c in np.argwhere(stage[:, :, 0] == 0):\n",
    "        pres.loc[c[0], c[1]] = '*'\n",
    "    return pres\n",
    "\n",
    "def is_won(stage):\n",
    "    return np.sum(stage[:, :, 0]) == width * height - n_mines"
   ]
  },
  {
   "cell_type": "code",
   "execution_count": 29,
   "metadata": {
    "collapsed": false
   },
   "outputs": [
    {
     "name": "stdout",
     "output_type": "stream",
     "text": [
      "[[-1 -1  1  0  0  1  1  2  1]\n",
      " [ 3  3  1  0  0  2 -1  3 -1]\n",
      " [-1  1  0  0  1  3 -1  3  1]\n",
      " [ 1  1  0  0  1 -1  2  1  0]\n",
      " [ 0  0  0  1  2  2  1  0  0]\n",
      " [ 1  1  1  1 -1  1  0  0  0]\n",
      " [ 1 -1  1  1  1  1  0  0  0]\n",
      " [ 1  2  2  1  0  0  0  0  0]\n",
      " [ 0  1 -1  1  0  0  0  0  0]]\n",
      "   0  1  2  3  4  5  6  7  8\n",
      "0  *  *  *  *  *  *  *  *  *\n",
      "1  *  *  *  *  *  *  *  *  *\n",
      "2  *  *  *  *  *  *  *  *  *\n",
      "3  *  *  *  *  *  *  *  *  *\n",
      "4  *  *  *  *  *  *  *  *  *\n",
      "5  *  *  *  *  *  *  *  *  *\n",
      "6  *  *  *  *  *  *  *  *  *\n",
      "7  *  *  *  *  *  *  *  *  *\n",
      "8  *  *  *  *  *  *  *  *  *\n",
      "True\n",
      "   0  1  2  3  4  5  6  7  8\n",
      "0  *  *  1  .  .  1  *  *  *\n",
      "1  *  *  1  .  .  2  *  *  *\n",
      "2  *  1  .  .  1  *  *  *  *\n",
      "3  1  1  .  .  1  *  *  *  *\n",
      "4  .  .  .  1  *  *  *  *  *\n",
      "5  1  1  1  *  *  *  *  *  *\n",
      "6  *  *  *  *  *  *  *  *  *\n",
      "7  *  *  *  *  *  *  *  *  *\n",
      "8  *  *  *  *  *  *  *  *  *\n",
      "[[0 0 1 0 0 1 0 0 0]\n",
      " [0 0 1 0 0 2 0 0 0]\n",
      " [0 1 0 0 1 0 0 0 0]\n",
      " [1 1 0 0 1 0 0 0 0]\n",
      " [0 0 0 1 0 0 0 0 0]\n",
      " [1 1 1 0 0 0 0 0 0]\n",
      " [0 0 0 0 0 0 0 0 0]\n",
      " [0 0 0 0 0 0 0 0 0]\n",
      " [0 0 0 0 0 0 0 0 0]]\n"
     ]
    }
   ],
   "source": [
    "# test simulator\n",
    "temp_stage = get_init_stage()\n",
    "print(print_stage(temp_stage))\n",
    "print(pretty(temp_stage))\n",
    "alive, temp_after = step_on(temp_stage, (2, 2))\n",
    "print(alive)\n",
    "print(pretty(temp_after))\n",
    "print(show_visible(temp_after))"
   ]
  },
  {
   "cell_type": "code",
   "execution_count": 46,
   "metadata": {
    "collapsed": true
   },
   "outputs": [],
   "source": [
    "def border_padding(stage):\n",
    "    padded = np.zeros((3, width + 4, height + 4), dtype='int8')\n",
    "    padded[0, 2:-2, 2:-2] = 1\n",
    "    padded[1, 2:-2, 2:-2] = stage[:, :, 0]\n",
    "    padded[2, 2:-2, 2:-2] = show_visible(stage)\n",
    "    return padded"
   ]
  },
  {
   "cell_type": "code",
   "execution_count": 47,
   "metadata": {
    "collapsed": false
   },
   "outputs": [
    {
     "name": "stdout",
     "output_type": "stream",
     "text": [
      "(9, 9, 3)\n"
     ]
    },
    {
     "data": {
      "text/plain": [
       "(3, 13, 13)"
      ]
     },
     "execution_count": 47,
     "metadata": {},
     "output_type": "execute_result"
    }
   ],
   "source": [
    "print(get_init_stage().shape)\n",
    "border_padding(get_init_stage()).shape"
   ]
  },
  {
   "cell_type": "code",
   "execution_count": 79,
   "metadata": {
    "collapsed": true
   },
   "outputs": [],
   "source": [
    "# define model for q evaluation\n",
    "from keras.models import Sequential, Model\n",
    "from keras.layers import Dense, Activation\n",
    "from keras.layers.core import Reshape\n",
    "from keras.layers.core import Flatten\n",
    "from keras.layers.core import Dropout\n",
    "from keras.layers.core import Lambda\n",
    "from keras.layers import Input, merge, Convolution2D\n",
    "from keras.layers.normalization import BatchNormalization\n",
    "from keras.optimizers import Adam, RMSprop, SGD\n",
    "from rl.agents.dqn import DQNAgent\n",
    "from rl.agents.ddpg import DDPGAgent\n",
    "from rl.policy import LinearAnnealedPolicy, EpsGreedyQPolicy\n",
    "from rl.memory import SequentialMemory\n",
    "import random\n",
    "from IPython.display import clear_output"
   ]
  },
  {
   "cell_type": "code",
   "execution_count": 69,
   "metadata": {
    "collapsed": false,
    "scrolled": false
   },
   "outputs": [],
   "source": [
    "model = Sequential()\n",
    "model.add(Convolution2D(nb_filter=10, nb_row=5, nb_col=5, border_mode='valid', \n",
    "                        input_shape=(3, width + 4, height + 4)))\n",
    "model.add(Activation('relu'))\n",
    "model.add(Dropout(0.2))\n",
    "model.add(BatchNormalization())\n",
    "model.add(Convolution2D(nb_filter=5, nb_row=5, nb_col=5, border_mode='same', \n",
    "                        input_shape=(3, width, height)))\n",
    "model.add(Activation('relu'))\n",
    "model.add(Dropout(0.2))\n",
    "model.add(BatchNormalization())\n",
    "model.add(Convolution2D(nb_filter=1, nb_row=1, nb_col=1, border_mode='same', \n",
    "                        input_shape=(3, width, height)))\n",
    "model.add(Activation('linear'))\n",
    "model.compile(optimizer='rmsprop', loss='mse')"
   ]
  },
  {
   "cell_type": "code",
   "execution_count": 76,
   "metadata": {
    "collapsed": false
   },
   "outputs": [
    {
     "name": "stdout",
     "output_type": "stream",
     "text": [
      "(3, 13, 13)\n",
      "[[[[-0.05792572 -0.0354009   0.03887913  0.04983381  0.06709787  0.05862692\n",
      "     0.06340855  0.05346444  0.00194048]\n",
      "   [-0.16814481 -0.17293577 -0.0757693  -0.07170346 -0.04817623 -0.05575689\n",
      "     0.02541313  0.05484676  0.01230349]\n",
      "   [-0.23979653 -0.23454504 -0.08065415 -0.03599275 -0.0163417  -0.01638608\n",
      "     0.0120784   0.05504632 -0.00165451]\n",
      "   [-0.2451165  -0.24394363 -0.10331909 -0.08143683 -0.03637112  0.00531315\n",
      "     0.0234071   0.05723965 -0.00228843]\n",
      "   [-0.22937171 -0.22401801 -0.0568387  -0.05279678 -0.01371426  0.00483536\n",
      "     0.01314424  0.06000319 -0.0045753 ]\n",
      "   [-0.16304198 -0.15741536  0.00189133  0.01660383  0.06594341  0.06450769\n",
      "     0.07253702  0.05887225  0.        ]\n",
      "   [-0.13550043 -0.13706607 -0.0131674  -0.01248849  0.00496498  0.00683005\n",
      "     0.02542618  0.03720443 -0.02026121]\n",
      "   [-0.09134807 -0.13380976 -0.04693288 -0.04904399 -0.02352193 -0.00259179\n",
      "    -0.05060366  0.02980019 -0.00813962]\n",
      "   [-0.10364249 -0.14535785 -0.04423444 -0.06144509 -0.06096068 -0.04376038\n",
      "    -0.07857656  0.02872707 -0.07672339]]]]\n",
      "(9, 9)\n"
     ]
    },
    {
     "data": {
      "text/plain": [
       "(5, 6)"
      ]
     },
     "execution_count": 76,
     "metadata": {},
     "output_type": "execute_result"
    }
   ],
   "source": [
    "example = border_padding(get_init_stage())\n",
    "print(example.shape)\n",
    "pred = model.predict(example.reshape(1, 3, width+4, height+4))\n",
    "print(pred)\n",
    "print(pred[0, 0, :, :].shape)\n",
    "np.unravel_index(pred[0, 0, :, :].argmax(), pred[0, 0, :, :].shape)"
   ]
  },
  {
   "cell_type": "code",
   "execution_count": 77,
   "metadata": {
    "collapsed": true
   },
   "outputs": [],
   "source": [
    "penalty = 50"
   ]
  },
  {
   "cell_type": "code",
   "execution_count": 78,
   "metadata": {
    "collapsed": true
   },
   "outputs": [],
   "source": [
    "def perform_action(stage, coord):\n",
    "    alive, next_stage = step_on(stage, coord)\n",
    "    if not alive:\n",
    "        return False, -penalty, next_stage\n",
    "    else:\n",
    "        return True, np.sum(next_stage[:, :, 0]) - np.sum(stage[:, :, 0]), next_stage"
   ]
  },
  {
   "cell_type": "code",
   "execution_count": null,
   "metadata": {
    "collapsed": true
   },
   "outputs": [],
   "source": []
  }
 ],
 "metadata": {
  "anaconda-cloud": {},
  "kernelspec": {
   "display_name": "Python [tensorflow]",
   "language": "python",
   "name": "Python [tensorflow]"
  },
  "language_info": {
   "codemirror_mode": {
    "name": "ipython",
    "version": 3
   },
   "file_extension": ".py",
   "mimetype": "text/x-python",
   "name": "python",
   "nbconvert_exporter": "python",
   "pygments_lexer": "ipython3",
   "version": "3.5.2"
  }
 },
 "nbformat": 4,
 "nbformat_minor": 0
}
