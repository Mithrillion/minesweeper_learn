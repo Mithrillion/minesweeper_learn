{
 "cells": [
  {
   "cell_type": "code",
   "execution_count": 1,
   "metadata": {
    "collapsed": false
   },
   "outputs": [
    {
     "name": "stderr",
     "output_type": "stream",
     "text": [
      "Using TensorFlow backend.\n"
     ]
    }
   ],
   "source": [
    "import keras\n",
    "import numpy as np\n",
    "import matplotlib.pyplot as plt\n",
    "import pandas as pd"
   ]
  },
  {
   "cell_type": "code",
   "execution_count": 2,
   "metadata": {
    "collapsed": true
   },
   "outputs": [],
   "source": [
    "width = 5\n",
    "height = 5\n",
    "n_mines = 3\n",
    "\n",
    "def get_init_stage(width=width, height=height, n_mines=n_mines):\n",
    "    # set stage\n",
    "    stage = np.zeros((width, height, 3), dtype='int8')\n",
    "    # assign mines\n",
    "    selected_long = np.zeros((width * height), dtype='bool')\n",
    "    selected_long[np.random.choice(range(0, width * height), n_mines, replace=False)] = True\n",
    "    selected = selected_long.reshape((width, height))\n",
    "    stage[selected, 1] = 1\n",
    "    # set neighbour mine counts\n",
    "    mines_padded = np.zeros((width + 2, height + 2), dtype='int8')\n",
    "    mines_padded[1:-1, 1:-1] = stage[:, :, 1]\n",
    "    for x in range(width):\n",
    "        for y in range(height):\n",
    "            if stage[x, y, 1] == 0:\n",
    "                stage[x, y, 2] = np.sum(mines_padded[x: x + 3, y: y + 3])\n",
    "    return stage          \n",
    "\n",
    "def print_stage(stage):\n",
    "    return stage[:, :, 2] - stage[:, :, 1]\n",
    "\n",
    "def show_visible(stage):\n",
    "    return stage[:, :, 0] * print_stage(stage)\n",
    "\n",
    "def expand(stage, coord):\n",
    "    mines_padded = np.zeros((width + 2, height + 2), dtype='int8') - 1\n",
    "    mines_padded[1:-1, 1:-1] = stage[:, :, 1]\n",
    "    n = []\n",
    "    n.append((coord[0], coord[1] + 1))\n",
    "    n.append((coord[0] + 1, coord[1]))\n",
    "    n.append((coord[0] + 2, coord[1] + 1))\n",
    "    n.append((coord[0] + 1, coord[1] + 2))\n",
    "    return [(x[0] - 1, x[1] - 1) for x in n if mines_padded[x[0], x[1]] == 0\n",
    "           and stage[x[0] - 1, x[1] - 1, 0] == 0]\n",
    "\n",
    "def step_on(stage, coord):\n",
    "    new_stage = stage.copy()\n",
    "    new_stage[coord[0], coord[1], 0] = 1\n",
    "    # if not mine, expand all (directly) neighbouring non-mine tiles\n",
    "    if is_dead(new_stage):\n",
    "        return False, new_stage\n",
    "    elif stage[coord[0], coord[1], 2] == 0:\n",
    "        eligible_neighbours = expand(new_stage, coord)\n",
    "        for c in eligible_neighbours:\n",
    "            new_stage[c[0], c[1], 0] = 1\n",
    "            if new_stage[c[0], c[1], 2] == 0:\n",
    "                eligible_neighbours += expand(new_stage, c)\n",
    "        return True, new_stage\n",
    "    else:\n",
    "        return True, new_stage\n",
    "    \n",
    "def is_dead(stage):\n",
    "    return np.sum(show_visible(stage) < 0)\n",
    "\n",
    "def pretty(stage):\n",
    "    pres = pd.DataFrame(print_stage(stage))\n",
    "    pres = pres.replace(0, '.')\n",
    "    for c in np.argwhere(stage[:, :, 0] == 0):\n",
    "        pres.loc[c[0], c[1]] = '*'\n",
    "    return pres\n",
    "\n",
    "def is_won(stage):\n",
    "    return np.sum(stage[:, :, 0]) == width * height - n_mines"
   ]
  },
  {
   "cell_type": "code",
   "execution_count": 3,
   "metadata": {
    "collapsed": false
   },
   "outputs": [
    {
     "name": "stdout",
     "output_type": "stream",
     "text": [
      "[[ 0  0  0  0  0]\n",
      " [ 2  2  1  0  0]\n",
      " [-1 -1  2  1  1]\n",
      " [ 2  2  2 -1  1]\n",
      " [ 0  0  1  1  1]]\n",
      "   0  1  2  3  4\n",
      "0  *  *  *  *  *\n",
      "1  *  *  *  *  *\n",
      "2  *  *  *  *  *\n",
      "3  *  *  *  *  *\n",
      "4  *  *  *  *  *\n",
      "True\n",
      "   0  1  2  3  4\n",
      "0  *  *  *  *  *\n",
      "1  *  *  *  *  *\n",
      "2  *  *  2  *  *\n",
      "3  *  *  *  *  *\n",
      "4  *  *  *  *  *\n",
      "[[0 0 0 0 0]\n",
      " [0 0 0 0 0]\n",
      " [0 0 2 0 0]\n",
      " [0 0 0 0 0]\n",
      " [0 0 0 0 0]]\n"
     ]
    }
   ],
   "source": [
    "# test simulator\n",
    "temp_stage = get_init_stage()\n",
    "print(print_stage(temp_stage))\n",
    "print(pretty(temp_stage))\n",
    "alive, temp_after = step_on(temp_stage, (2, 2))\n",
    "print(alive)\n",
    "print(pretty(temp_after))\n",
    "print(show_visible(temp_after))"
   ]
  },
  {
   "cell_type": "code",
   "execution_count": 4,
   "metadata": {
    "collapsed": true
   },
   "outputs": [],
   "source": [
    "def border_padding(stage):\n",
    "    padded = np.zeros((3, width + 4, height + 4), dtype='int8')\n",
    "    padded[0, 2:-2, 2:-2] = 1\n",
    "    padded[1, 2:-2, 2:-2] = stage[:, :, 0]\n",
    "    padded[2, 2:-2, 2:-2] = show_visible(stage)\n",
    "    return padded"
   ]
  },
  {
   "cell_type": "code",
   "execution_count": 5,
   "metadata": {
    "collapsed": false
   },
   "outputs": [
    {
     "name": "stdout",
     "output_type": "stream",
     "text": [
      "(5, 5, 3)\n"
     ]
    },
    {
     "data": {
      "text/plain": [
       "(3, 9, 9)"
      ]
     },
     "execution_count": 5,
     "metadata": {},
     "output_type": "execute_result"
    }
   ],
   "source": [
    "print(get_init_stage().shape)\n",
    "border_padding(get_init_stage()).shape"
   ]
  },
  {
   "cell_type": "code",
   "execution_count": 6,
   "metadata": {
    "collapsed": false
   },
   "outputs": [],
   "source": [
    "# define model for q evaluation\n",
    "from keras.models import Sequential, Model\n",
    "from keras.layers import Dense, Activation\n",
    "from keras.layers.core import Reshape\n",
    "from keras.layers.core import Flatten\n",
    "from keras.layers.core import Dropout\n",
    "from keras.layers.core import Lambda\n",
    "from keras.layers import Input, merge, Convolution2D\n",
    "from keras.layers.normalization import BatchNormalization\n",
    "from keras.optimizers import Adam, RMSprop, SGD\n",
    "from rl.agents.dqn import DQNAgent\n",
    "from rl.agents.ddpg import DDPGAgent\n",
    "from rl.policy import LinearAnnealedPolicy, EpsGreedyQPolicy\n",
    "from rl.memory import SequentialMemory\n",
    "import random\n",
    "from IPython.display import clear_output\n",
    "from keras.utils.visualize_util import plot"
   ]
  },
  {
   "cell_type": "code",
   "execution_count": 7,
   "metadata": {
    "collapsed": false,
    "scrolled": false
   },
   "outputs": [],
   "source": [
    "model = Sequential()\n",
    "model.add(Convolution2D(nb_filter=10, nb_row=5, nb_col=5, border_mode='valid', \n",
    "                        input_shape=(3, width + 4, height + 4)))\n",
    "model.add(Activation('relu'))\n",
    "model.add(Dropout(0.2))\n",
    "model.add(BatchNormalization())\n",
    "model.add(Convolution2D(nb_filter=5, nb_row=5, nb_col=5, border_mode='same', \n",
    "                        input_shape=(3, width, height)))\n",
    "model.add(Activation('relu'))\n",
    "model.add(Dropout(0.2))\n",
    "model.add(BatchNormalization())\n",
    "model.add(Convolution2D(nb_filter=1, nb_row=1, nb_col=1, border_mode='same', \n",
    "                        input_shape=(3, width, height)))\n",
    "model.add(Activation('linear'))\n",
    "model.compile(optimizer='rmsprop', loss='mse')\n",
    "\n",
    "target_model = Sequential()\n",
    "target_model.add(Convolution2D(nb_filter=10, nb_row=5, nb_col=5, border_mode='valid', \n",
    "                        input_shape=(3, width + 4, height + 4)))\n",
    "target_model.add(Activation('relu'))\n",
    "target_model.add(Dropout(0.2))\n",
    "target_model.add(BatchNormalization())\n",
    "target_model.add(Convolution2D(nb_filter=5, nb_row=5, nb_col=5, border_mode='same', \n",
    "                        input_shape=(3, width, height)))\n",
    "target_model.add(Activation('relu'))\n",
    "target_model.add(Dropout(0.2))\n",
    "target_model.add(BatchNormalization())\n",
    "target_model.add(Convolution2D(nb_filter=1, nb_row=1, nb_col=1, border_mode='same', \n",
    "                        input_shape=(3, width, height)))\n",
    "target_model.add(Activation('linear'))\n",
    "target_model.compile(optimizer='rmsprop', loss='mse')"
   ]
  },
  {
   "cell_type": "code",
   "execution_count": 8,
   "metadata": {
    "collapsed": true
   },
   "outputs": [],
   "source": [
    "plot(model, to_file='model.png', show_shapes=True)"
   ]
  },
  {
   "cell_type": "code",
   "execution_count": 9,
   "metadata": {
    "collapsed": false
   },
   "outputs": [
    {
     "name": "stdout",
     "output_type": "stream",
     "text": [
      "(3, 9, 9)\n",
      "[[[[ 0.05631768 -0.00087915 -0.01718659 -0.0118984  -0.01615041]\n",
      "   [ 0.01571422 -0.00163792  0.00555199 -0.00901891 -0.01382114]\n",
      "   [ 0.02998096  0.00398127  0.03865868 -0.00086712 -0.00327395]\n",
      "   [ 0.03632027  0.02880283  0.08948079  0.04337301  0.02176034]\n",
      "   [ 0.03509468  0.05766553  0.08709553  0.04773781  0.03326273]]]]\n",
      "(5, 5)\n"
     ]
    },
    {
     "data": {
      "text/plain": [
       "(3, 2)"
      ]
     },
     "execution_count": 9,
     "metadata": {},
     "output_type": "execute_result"
    }
   ],
   "source": [
    "example = border_padding(get_init_stage())\n",
    "print(example.shape)\n",
    "pred = model.predict(example.reshape(1, 3, width+4, height+4))\n",
    "print(pred)\n",
    "print(pred[0, 0, :, :].shape)\n",
    "np.unravel_index(pred[0, 0, :, :].argmax(), pred[0, 0, :, :].shape)"
   ]
  },
  {
   "cell_type": "code",
   "execution_count": 10,
   "metadata": {
    "collapsed": true
   },
   "outputs": [],
   "source": [
    "penalty = 50"
   ]
  },
  {
   "cell_type": "code",
   "execution_count": 11,
   "metadata": {
    "collapsed": true
   },
   "outputs": [],
   "source": [
    "def perform_action(stage, coord):\n",
    "    alive, next_stage = step_on(stage, coord)\n",
    "    if not alive:\n",
    "        return False, -penalty, next_stage\n",
    "    else:\n",
    "        return True, np.sum(next_stage[:, :, 0]) - np.sum(stage[:, :, 0]), next_stage"
   ]
  },
  {
   "cell_type": "code",
   "execution_count": 12,
   "metadata": {
    "collapsed": true
   },
   "outputs": [],
   "source": [
    "def prepare_input(stage):\n",
    "    padded = border_padding(stage)\n",
    "    return padded.reshape(1, 3, width+4, height+4)"
   ]
  },
  {
   "cell_type": "code",
   "execution_count": 13,
   "metadata": {
    "collapsed": false
   },
   "outputs": [],
   "source": [
    "def pick_action(stage, epsilon):\n",
    "    if epsilon == 0 or random.random() > epsilon:\n",
    "        values = model.predict(prepare_input(stage)) - 100000 * stage[:, :, 0]\n",
    "        ind = np.unravel_index(values[0, 0, :, :].argmax(), values[0, 0, :, :].shape)\n",
    "        return ind\n",
    "    else:\n",
    "        candidates = np.where(stage[:, :, 0] == 0)\n",
    "        selected_id = random.randint(0, len(candidates[0]) - 1)\n",
    "        ind = (candidates[0][selected_id], candidates[1][selected_id])\n",
    "        return ind"
   ]
  },
  {
   "cell_type": "code",
   "execution_count": 14,
   "metadata": {
    "collapsed": false
   },
   "outputs": [
    {
     "data": {
      "text/plain": [
       "(0, 0)"
      ]
     },
     "execution_count": 14,
     "metadata": {},
     "output_type": "execute_result"
    }
   ],
   "source": [
    "pick_action(get_init_stage(), 1)"
   ]
  },
  {
   "cell_type": "code",
   "execution_count": 15,
   "metadata": {
    "collapsed": true
   },
   "outputs": [],
   "source": [
    "def simulate_games(init_eps=1, epochs=1000, win_bonus=100, gamma=0.99, learn_interval=20,\n",
    "                   batch_size=20, memory_size=500, update_interval=100, warmup=100, training=True):\n",
    "    epsilon = init_eps\n",
    "    memory = []\n",
    "    n_wins = 0\n",
    "    n_losses = 0\n",
    "    memory_counter = 0\n",
    "    target_model.set_weights(model.get_weights())\n",
    "    for i in range(epochs):\n",
    "        if i % update_interval == 0 and i > warmup: # time to update target model\n",
    "            target_model.set_weights(model.get_weights())\n",
    "        clear_output(wait=True)\n",
    "        print(\"Epoch = %s\" % i)\n",
    "        print(\"wins: %s\" % n_wins)\n",
    "        print(\"losses: %s\" % n_losses)\n",
    "        state = get_init_stage()\n",
    "        is_finished = False\n",
    "        step_counter = 0\n",
    "        while not is_finished:\n",
    "            action = pick_action(state, epsilon)\n",
    "            alive, delta, next_state = perform_action(state, action)\n",
    "            if alive:\n",
    "                done = is_won(next_state)\n",
    "                is_finished = done\n",
    "                reward = delta + win_bonus * done\n",
    "            else:\n",
    "                done = False\n",
    "                is_finished = True\n",
    "                reward = delta\n",
    "            if is_finished:\n",
    "                n_wins += done\n",
    "                n_losses += (not alive)\n",
    "            if len(memory) < memory_size:\n",
    "                memory.append((state, action, reward, next_state, is_finished))\n",
    "            else:\n",
    "                if memory_counter < (memory_size - 1):\n",
    "                    memory_counter += 1\n",
    "                else:\n",
    "                    memory_counter = 0\n",
    "                memory[memory_counter] = (state, action, reward, next_state, is_finished)\n",
    "                if training and i > warmup and i % learn_interval == 0: # time to train\n",
    "                    minibatch = random.sample(memory, batch_size)\n",
    "                    X_train = []\n",
    "                    y_train = []\n",
    "                    for experience in minibatch:\n",
    "                        s0, a, r, s1, f = experience\n",
    "                        q0 = target_model.predict(prepare_input(s0))\n",
    "                        q1 = target_model.predict(prepare_input(s1))\n",
    "                        max_q1 = q1.max()\n",
    "                        y = np.zeros((width, height))\n",
    "                        y[:] = q0[:]\n",
    "                        if not f:\n",
    "                            update = r + gamma * max_q1\n",
    "                        else:\n",
    "                            update = r\n",
    "                        y[a[0], a[1]] = update\n",
    "                        X_train.append(prepare_input(s0).reshape(3, width+4, height+4))\n",
    "                        y_train.append(y)\n",
    "                    X_train = np.array(X_train)\n",
    "                    y_train = np.array(y_train).reshape(batch_size, 1, width, height)\n",
    "                    model.train_on_batch(X_train, y_train)\n",
    "            state = next_state\n",
    "            step_counter += 1\n",
    "        if epsilon > 0.1:\n",
    "            epsilon -= (1/epochs)"
   ]
  },
  {
   "cell_type": "code",
   "execution_count": 16,
   "metadata": {
    "collapsed": false,
    "scrolled": false
   },
   "outputs": [
    {
     "name": "stdout",
     "output_type": "stream",
     "text": [
      "Epoch = 1999\n",
      "wins: 178\n",
      "losses: 1821\n"
     ]
    }
   ],
   "source": [
    "simulate_games(init_eps=1, epochs=2000, win_bonus=100, gamma=0.99, learn_interval=5,\n",
    "                   batch_size=10, memory_size=100, update_interval=20)"
   ]
  },
  {
   "cell_type": "code",
   "execution_count": 17,
   "metadata": {
    "collapsed": false
   },
   "outputs": [
    {
     "data": {
      "text/plain": [
       "array([[ 0,  0,  1, -1,  1],\n",
       "       [ 1,  1,  3,  2,  2],\n",
       "       [ 1, -1,  2, -1,  1],\n",
       "       [ 1,  1,  2,  1,  1],\n",
       "       [ 0,  0,  0,  0,  0]], dtype=int8)"
      ]
     },
     "execution_count": 17,
     "metadata": {},
     "output_type": "execute_result"
    }
   ],
   "source": [
    "temp_stage = get_init_stage()\n",
    "print_stage(temp_stage)"
   ]
  },
  {
   "cell_type": "code",
   "execution_count": 18,
   "metadata": {
    "collapsed": false
   },
   "outputs": [
    {
     "name": "stdout",
     "output_type": "stream",
     "text": [
      "[[ 0  0  1 -1  1]\n",
      " [ 1  1  3  2  2]\n",
      " [ 1 -1  2 -1  1]\n",
      " [ 1  1  2  1  1]\n",
      " [ 0  0  0  0  0]]\n",
      "   0  1  2  3  4\n",
      "0  .  .  1  *  *\n",
      "1  1  1  *  *  *\n",
      "2  *  *  *  *  *\n",
      "3  *  *  *  *  *\n",
      "4  *  *  *  *  *\n"
     ]
    }
   ],
   "source": [
    "alive, temp_stage = step_on(temp_stage, (0, 0))\n",
    "print(print_stage(temp_stage))\n",
    "print(pretty(temp_stage))"
   ]
  },
  {
   "cell_type": "code",
   "execution_count": 19,
   "metadata": {
    "collapsed": false
   },
   "outputs": [
    {
     "name": "stdout",
     "output_type": "stream",
     "text": [
      "[[[[-0.6047172  -0.61043119 -0.60587913 -0.61504924  0.08700705]\n",
      "   [-0.6047172  -0.61043119 -0.60587913 -0.61504924 -0.44591853]\n",
      "   [-1.12930512 -0.84289938 -0.60587913 -0.61504924 -0.60199255]\n",
      "   [-0.6047172  -0.81678778 -0.60587913 -0.61504924 -0.60199255]\n",
      "   [-0.74663669 -1.02203429 -0.72721362 -0.84854138 -0.7439276 ]]]]\n"
     ]
    }
   ],
   "source": [
    "print(model.predict(prepare_input(temp_stage)))"
   ]
  },
  {
   "cell_type": "code",
   "execution_count": null,
   "metadata": {
    "collapsed": true
   },
   "outputs": [],
   "source": []
  }
 ],
 "metadata": {
  "anaconda-cloud": {},
  "kernelspec": {
   "display_name": "Python [tensorflow]",
   "language": "python",
   "name": "Python [tensorflow]"
  },
  "language_info": {
   "codemirror_mode": {
    "name": "ipython",
    "version": 3
   },
   "file_extension": ".py",
   "mimetype": "text/x-python",
   "name": "python",
   "nbconvert_exporter": "python",
   "pygments_lexer": "ipython3",
   "version": "3.5.2"
  }
 },
 "nbformat": 4,
 "nbformat_minor": 0
}
